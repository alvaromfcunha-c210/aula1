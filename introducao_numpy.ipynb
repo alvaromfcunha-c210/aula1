{
 "cells": [
  {
   "attachments": {},
   "cell_type": "markdown",
   "metadata": {},
   "source": [
    "# Introdução NumPy:"
   ]
  },
  {
   "cell_type": "code",
   "execution_count": null,
   "metadata": {},
   "outputs": [],
   "source": [
    "import numpy as np"
   ]
  },
  {
   "attachments": {},
   "cell_type": "markdown",
   "metadata": {},
   "source": [
    "## Vetores:"
   ]
  },
  {
   "cell_type": "code",
   "execution_count": null,
   "metadata": {},
   "outputs": [],
   "source": [
    "vetor = np.array([3, 8, 5, 12])\n",
    "\n",
    "print('vetor:', vetor)\n",
    "print('dimensão:', vetor.shape)"
   ]
  },
  {
   "attachments": {},
   "cell_type": "markdown",
   "metadata": {},
   "source": [
    "## Matrizes:"
   ]
  },
  {
   "cell_type": "code",
   "execution_count": null,
   "metadata": {},
   "outputs": [],
   "source": [
    "matriz = np.array([[1, 2, 3],\n",
    "                   [4, 5, 6],\n",
    "                   [7, 8, 9]])\n",
    "\n",
    "print('matriz:', matriz)\n",
    "print('dimensão:', matriz.shape)"
   ]
  },
  {
   "attachments": {},
   "cell_type": "markdown",
   "metadata": {},
   "source": [
    "## Geração de Arrays:"
   ]
  },
  {
   "cell_type": "code",
   "execution_count": null,
   "metadata": {},
   "outputs": [],
   "source": [
    "array_3x3_um = np.ones((3, 3))\n",
    "print('array 3x3 com uns\\n', array_3x3_um)\n",
    "\n",
    "array_2x3x3_zero = np.zeros((2, 3, 3))\n",
    "print('array 2x3x3 com zeros\\n', array_2x3x3_zero)\n",
    "\n",
    "array_faixa = np.arange(0, 100, 10)\n",
    "print('array de 0 à 100 de 10 em 10\\n', array_faixa)\n",
    "\n",
    "# np.random.seed(20)\n",
    "array_4x4_aleatorio = np.random.randint(10, size=(4, 4))\n",
    "print('array 4x4 aleatorio de 0 à 10\\n', array_4x4_aleatorio)"
   ]
  }
 ],
 "metadata": {
  "kernelspec": {
   "display_name": "Python 3",
   "language": "python",
   "name": "python3"
  },
  "language_info": {
   "codemirror_mode": {
    "name": "ipython",
    "version": 3
   },
   "file_extension": ".py",
   "mimetype": "text/x-python",
   "name": "python",
   "nbconvert_exporter": "python",
   "pygments_lexer": "ipython3",
   "version": "3.9.2"
  },
  "orig_nbformat": 4,
  "vscode": {
   "interpreter": {
    "hash": "14484306f3a114d615cedfc940d7e3c36c4908fe58aba28489e23c95768fd0fc"
   }
  }
 },
 "nbformat": 4,
 "nbformat_minor": 2
}
