{
 "cells": [
  {
   "attachments": {},
   "cell_type": "markdown",
   "metadata": {},
   "source": [
    "# Introdução Python"
   ]
  },
  {
   "attachments": {},
   "cell_type": "markdown",
   "metadata": {},
   "source": [
    "## Variáveis:"
   ]
  },
  {
   "cell_type": "code",
   "execution_count": null,
   "metadata": {},
   "outputs": [],
   "source": [
    "inteiro = 10\n",
    "\n",
    "ponto_flutuante = 1.2\n",
    "\n",
    "string = \"hello world!\"\n",
    "string2 = 'hello world!'\n",
    "string3 = '''\n",
    "  hello\n",
    "  world\n",
    "  !\n",
    "'''\n",
    "\n",
    "booleano = True | False"
   ]
  },
  {
   "attachments": {},
   "cell_type": "markdown",
   "metadata": {},
   "source": [
    "## Entrada e Saída:\n"
   ]
  },
  {
   "cell_type": "code",
   "execution_count": null,
   "metadata": {},
   "outputs": [],
   "source": [
    "entrada = input('prompt de entrada')\n",
    "\n",
    "texto = f'sua entrada foi {entrada}'\n",
    "# texto = 'sua entrada foi' + entrada\n",
    "\n",
    "print(texto)\n",
    "# print('sua entrada foi', entrada)\n"
   ]
  },
  {
   "attachments": {},
   "cell_type": "markdown",
   "metadata": {},
   "source": [
    "## Operadores Aritiméticos:"
   ]
  },
  {
   "cell_type": "code",
   "execution_count": null,
   "metadata": {},
   "outputs": [],
   "source": [
    "x = 10\n",
    "y = 3\n",
    "\n",
    "soma = x + y\n",
    "subtracao = x - y\n",
    "multiplicacao = x * y\n",
    "divisao = x / y\n",
    "divisao_truncada = x // y \n",
    "exponenciacao = x ** y\n",
    "resto_divisao = x % y"
   ]
  },
  {
   "attachments": {},
   "cell_type": "markdown",
   "metadata": {},
   "source": [
    "## Operadores de Comparação:"
   ]
  },
  {
   "cell_type": "code",
   "execution_count": null,
   "metadata": {},
   "outputs": [],
   "source": [
    "x = 20\n",
    "y = 7\n",
    "\n",
    "igual = x == y\n",
    "diferente = x != y\n",
    "menor = x < y\n",
    "maior = x > y\n",
    "menor_igual = x <= y\n",
    "maior_igual = x >= y"
   ]
  },
  {
   "attachments": {},
   "cell_type": "markdown",
   "metadata": {},
   "source": [
    "## Operadores Lógicos:"
   ]
  },
  {
   "cell_type": "code",
   "execution_count": null,
   "metadata": {},
   "outputs": [],
   "source": [
    "b1 = True\n",
    "b2 = False\n",
    "\n",
    "e = b1 and b2\n",
    "ou = b1 or b2\n",
    "nao = not b1"
   ]
  },
  {
   "attachments": {},
   "cell_type": "markdown",
   "metadata": {},
   "source": [
    "## Estrutura de decisão:"
   ]
  },
  {
   "cell_type": "code",
   "execution_count": null,
   "metadata": {},
   "outputs": [],
   "source": [
    "condicao1 = False\n",
    "condicao2 = True\n",
    "\n",
    "if condicao1:\n",
    "  print('faz algo')\n",
    "elif condicao2:\n",
    "  print('faz outra coisa')\n",
    "else:\n",
    "  print('faz diferente')\n",
    "\n",
    "# obs: identação!!"
   ]
  },
  {
   "cell_type": "markdown",
   "metadata": {},
   "source": [
    "## Estruturas de Repetição:"
   ]
  },
  {
   "cell_type": "code",
   "execution_count": null,
   "metadata": {},
   "outputs": [],
   "source": [
    "condicao = False\n",
    "\n",
    "while condicao:\n",
    "  pass\n",
    "\n",
    "lista = [1, 2, 'oi']\n",
    "\n",
    "for item in lista:\n",
    "  print(item)\n",
    "\n",
    "for posicao, item in enumerate(lista):\n",
    "  print(posicao, lista[posicao])"
   ]
  },
  {
   "attachments": {},
   "cell_type": "markdown",
   "metadata": {},
   "source": [
    "## Listas (Arrays):"
   ]
  },
  {
   "cell_type": "code",
   "execution_count": 5,
   "metadata": {},
   "outputs": [
    {
     "name": "stdout",
     "output_type": "stream",
     "text": [
      "tamanho da lista: 6\n",
      "posição 3: 30\n",
      "ultimo item: novo elemento\n",
      "faixa de posicões: ['na posicao 2', 30, None]\n",
      "lista invertida: ['novo elemento', None, 30, 'na posicao 2', 10.2, 'texto']\n",
      "ordenada crescente: [5, 47, 100]\n",
      "ordenada decrescente: [100, 47, 5]\n"
     ]
    }
   ],
   "source": [
    "lista = ['texto', 10.2, 30, None]\n",
    "\n",
    "lista.append('novo elemento')\n",
    "lista.insert(2, 'na posicao 2')\n",
    "\n",
    "print('tamanho da lista:', len(lista))\n",
    "print('posição 3:', lista[3])\n",
    "print('ultimo item:', lista[-1])\n",
    "print('faixa de posicões:', lista[2:5])\n",
    "\n",
    "lista.reverse()\n",
    "\n",
    "print('lista invertida:', lista)\n",
    "\n",
    "lista_numeros = [100, 5, 47]\n",
    "\n",
    "lista_numeros.sort()\n",
    "print('ordenada crescente:', lista_numeros)\n",
    "\n",
    "lista_numeros.sort(reverse=True)\n",
    "print('ordenada decrescente:', lista_numeros)"
   ]
  },
  {
   "attachments": {},
   "cell_type": "markdown",
   "metadata": {},
   "source": [
    "## Dicionários:"
   ]
  },
  {
   "cell_type": "code",
   "execution_count": null,
   "metadata": {},
   "outputs": [],
   "source": [
    "dicionario = {\n",
    "  'nome': 'Alvaro',\n",
    "  'idade': 23\n",
    "}\n",
    "\n",
    "dicionario['cidade'] = 'Santa Rita'\n",
    "\n",
    "print('nome:', dicionario['nome'])"
   ]
  },
  {
   "attachments": {},
   "cell_type": "markdown",
   "metadata": {},
   "source": [
    "## Tuplas:"
   ]
  },
  {
   "cell_type": "code",
   "execution_count": 12,
   "metadata": {},
   "outputs": [
    {
     "name": "stdout",
     "output_type": "stream",
     "text": [
      "Alvaro Cunha\n"
     ]
    }
   ],
   "source": [
    "tupla = ('Alvaro', 'Cunha', 23)\n",
    "\n",
    "print(tupla[0], tupla[1])\n",
    "\n",
    "# tupla[0] = 'outro nome' <-- erro, é imutavel\n",
    "# tupla[3] = 'algo novo' <-- erro, tem tamanho fixo"
   ]
  }
 ],
 "metadata": {
  "kernelspec": {
   "display_name": "Python 3",
   "language": "python",
   "name": "python3"
  },
  "language_info": {
   "codemirror_mode": {
    "name": "ipython",
    "version": 3
   },
   "file_extension": ".py",
   "mimetype": "text/x-python",
   "name": "python",
   "nbconvert_exporter": "python",
   "pygments_lexer": "ipython3",
   "version": "3.9.2"
  },
  "orig_nbformat": 4,
  "vscode": {
   "interpreter": {
    "hash": "14484306f3a114d615cedfc940d7e3c36c4908fe58aba28489e23c95768fd0fc"
   }
  }
 },
 "nbformat": 4,
 "nbformat_minor": 2
}
